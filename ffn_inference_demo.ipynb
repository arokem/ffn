{
 "cells": [
  {
   "cell_type": "code",
   "execution_count": 1,
   "metadata": {},
   "outputs": [],
   "source": [
    "a = 1"
   ]
  },
  {
   "cell_type": "code",
   "execution_count": 2,
   "metadata": {},
   "outputs": [],
   "source": [
    "from google.protobuf import text_format\n",
    "from ffn.inference import inference\n",
    "from ffn.inference import inference_pb2"
   ]
  },
  {
   "cell_type": "code",
   "execution_count": 3,
   "metadata": {},
   "outputs": [],
   "source": [
    "config = '''image {\n",
    "  hdf5: \"third_party/neuroproof_examples/validation_sample/grayscale_maps.h5:raw\"\n",
    "}\n",
    "image_mean: 128\n",
    "image_stddev: 33\n",
    "checkpoint_interval: 1800\n",
    "seed_policy: \"PolicyPeaks\"\n",
    "model_checkpoint_path: \"gs://arokem-retina-ffn/models/fib25/model.ckpt-27465036\"\n",
    "model_name: \"convstack_3d.ConvStack3DFFNModel\"\n",
    "model_args: \"{\\\\\"depth\\\\\": 12, \\\\\"fov_size\\\\\": [33, 33, 33], \\\\\"deltas\\\\\": [8, 8, 8]}\"\n",
    "segmentation_output_dir: \"results/fib25/validation\"\n",
    "inference_options {\n",
    "  init_activation: 0.95\n",
    "  pad_value: 0.05\n",
    "  move_threshold: 0.9\n",
    "  min_boundary_dist { x: 1 y: 1 z: 1}\n",
    "  segment_threshold: 0.6\n",
    "  min_segment_size: 1000\n",
    "}'''\n",
    "req = inference_pb2.InferenceRequest()\n",
    "_ = text_format.Parse(config, req)"
   ]
  },
  {
   "cell_type": "code",
   "execution_count": 4,
   "metadata": {},
   "outputs": [],
   "source": [
    "import os\n",
    "import tensorflow as tf\n",
    "from tensorflow.contrib import tpu\n",
    "from tensorflow.contrib.cluster_resolver import TPUClusterResolver"
   ]
  },
  {
   "cell_type": "code",
   "execution_count": null,
   "metadata": {},
   "outputs": [
    {
     "name": "stdout",
     "output_type": "stream",
     "text": [
      "INFO:tensorflow:Restoring parameters from gs://arokem-retina-ffn/models/fib25/model.ckpt-27465036\n"
     ]
    },
    {
     "name": "stderr",
     "output_type": "stream",
     "text": [
      "INFO:tensorflow:Restoring parameters from gs://arokem-retina-ffn/models/fib25/model.ckpt-27465036\n",
      "/home/aman_arya524/ffn/ffn/inference/inference.py:589: FutureWarning: Using a non-tuple sequence for multidimensional indexing is deprecated; use `arr[tuple(seq)]` instead of `arr[seq]`. In the future this will be interpreted as an array index, `arr[np.array(seq)]`, which will result either in an error or a different result.\n",
      "  if np.any(self.segmentation[sel] > 0):\n",
      "/home/aman_arya524/ffn/ffn/inference/inference.py:421: FutureWarning: Using a non-tuple sequence for multidimensional indexing is deprecated; use `arr[tuple(seq)]` instead of `arr[seq]`. In the future this will be interpreted as an array index, `arr[np.array(seq)]`, which will result either in an error or a different result.\n",
      "  self.seed[[slice(s, e) for s, e in zip(start, end)]])\n",
      "/home/aman_arya524/ffn/ffn/inference/inference.py:382: FutureWarning: Using a non-tuple sequence for multidimensional indexing is deprecated; use `arr[tuple(seq)]` instead of `arr[seq]`. In the future this will be interpreted as an array index, `arr[np.array(seq)]`, which will result either in an error or a different result.\n",
      "  img = self.image[[slice(s, e) for s, e in zip(start, end)]]\n",
      "/home/aman_arya524/ffn/ffn/inference/inference.py:454: FutureWarning: Using a non-tuple sequence for multidimensional indexing is deprecated; use `arr[tuple(seq)]` instead of `arr[seq]`. In the future this will be interpreted as an array index, `arr[np.array(seq)]`, which will result either in an error or a different result.\n",
      "  old_seed = self.seed[sel]\n",
      "/home/aman_arya524/ffn/ffn/inference/inference.py:458: RuntimeWarning: invalid value encountered in greater_equal\n",
      "  np.sum((old_seed >= logit(0.8)) & (logits < th_max)))\n",
      "/home/aman_arya524/ffn/ffn/inference/inference.py:472: FutureWarning: Using a non-tuple sequence for multidimensional indexing is deprecated; use `arr[tuple(seq)]` instead of `arr[seq]`. In the future this will be interpreted as an array index, `arr[np.array(seq)]`, which will result either in an error or a different result.\n",
      "  self.seed[sel] = logits\n",
      "/home/aman_arya524/ffn/ffn/inference/movement.py:80: FutureWarning: Using a non-tuple sequence for multidimensional indexing is deprecated; use `arr[tuple(seq)]` instead of `arr[seq]`. In the future this will be interpreted as an array index, `arr[np.array(seq)]`, which will result either in an error or a different result.\n",
      "  face_prob = prob_map[face_sel]\n",
      "/home/aman_arya524/ffn/ffn/inference/inference.py:627: FutureWarning: Using a non-tuple sequence for multidimensional indexing is deprecated; use `arr[tuple(seq)]` instead of `arr[seq]`. In the future this will be interpreted as an array index, `arr[np.array(seq)]`, which will result either in an error or a different result.\n",
      "  mask = self.seed[sel] >= self.options.segment_threshold\n",
      "/home/aman_arya524/ffn/ffn/inference/inference.py:627: RuntimeWarning: invalid value encountered in greater_equal\n",
      "  mask = self.seed[sel] >= self.options.segment_threshold\n",
      "/home/aman_arya524/ffn/ffn/inference/inference.py:631: FutureWarning: Using a non-tuple sequence for multidimensional indexing is deprecated; use `arr[tuple(seq)]` instead of `arr[seq]`. In the future this will be interpreted as an array index, `arr[np.array(seq)]`, which will result either in an error or a different result.\n",
      "  overlapped_ids, counts = np.unique(self.segmentation[sel][mask],\n",
      "/home/aman_arya524/ffn/ffn/inference/inference.py:637: FutureWarning: Using a non-tuple sequence for multidimensional indexing is deprecated; use `arr[tuple(seq)]` instead of `arr[seq]`. In the future this will be interpreted as an array index, `arr[np.array(seq)]`, which will result either in an error or a different result.\n",
      "  mask &= self.segmentation[sel] <= 0\n",
      "/home/aman_arya524/ffn/ffn/inference/inference.py:658: FutureWarning: Using a non-tuple sequence for multidimensional indexing is deprecated; use `arr[tuple(seq)]` instead of `arr[seq]`. In the future this will be interpreted as an array index, `arr[np.array(seq)]`, which will result either in an error or a different result.\n",
      "  self.segmentation[sel][mask] = self._max_id\n",
      "/home/aman_arya524/ffn/ffn/inference/inference.py:660: FutureWarning: Using a non-tuple sequence for multidimensional indexing is deprecated; use `arr[tuple(seq)]` instead of `arr[seq]`. In the future this will be interpreted as an array index, `arr[np.array(seq)]`, which will result either in an error or a different result.\n",
      "  expit(self.seed[sel][mask]))\n"
     ]
    }
   ],
   "source": [
    "tpu_grpc_url = TPUClusterResolver(tpu='ffn-tpu').get_master()\n",
    "\n",
    "runner = inference.Runner()\n",
    "with tf.Session(tpu_grpc_url, config=tf.ConfigProto(log_device_placement=True)) as sess:\n",
    "    runner.start(req, session=sess)\n",
    "    canvas, alignment = runner.make_canvas((0, 0, 0), (250, 250, 250), keep_history=True)\n",
    "    canvas.segment_all()\n",
    "    runner.save_segmentation(canvas, \n",
    "                             alignment, \n",
    "                             target_path=\"results/fib25/validation/target.npz\", \n",
    "                             prob_path=\"results/fib25/validation/prob.npz\")"
   ]
  },
  {
   "cell_type": "code",
   "execution_count": null,
   "metadata": {},
   "outputs": [],
   "source": []
  }
 ],
 "metadata": {
  "kernelspec": {
   "display_name": "Python 3",
   "language": "python",
   "name": "python3"
  },
  "language_info": {
   "codemirror_mode": {
    "name": "ipython",
    "version": 3
   },
   "file_extension": ".py",
   "mimetype": "text/x-python",
   "name": "python",
   "nbconvert_exporter": "python",
   "pygments_lexer": "ipython3",
   "version": "3.5.3"
  }
 },
 "nbformat": 4,
 "nbformat_minor": 2
}
